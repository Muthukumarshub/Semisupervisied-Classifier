{
 "cells": [
  {
   "cell_type": "code",
   "execution_count": 41,
   "id": "b6b18aba",
   "metadata": {},
   "outputs": [],
   "source": [
    "from sklearn.feature_extraction.text import TfidfVectorizer\n",
    "from sklearn.semi_supervised import LabelPropagation\n",
    "from sklearn.metrics import accuracy_score, precision_score, recall_score\n",
    "from sklearn.model_selection import train_test_split\n",
    "import numpy as np\n"
   ]
  },
  {
   "cell_type": "code",
   "execution_count": 59,
   "id": "76fc2d4a",
   "metadata": {},
   "outputs": [],
   "source": [
    "labeled_data = [(\"This is a document about IBM\", \"IBM\"), \n",
    "                (\"This is a news article\", \"News\"),\n",
    "                (\"Another document about sports\", \"Sports\"),\n",
    "                (\"A text sample about politics\", \"Politics\"),\n",
    "                (\"A document discussing music\", \"Music\")]\n",
    "\n",
    "unlabeled_data = [\"This document discusses IBM\", \n",
    "                  \"Another document about News\", \n",
    "                  \"A short text sample\"]"
   ]
  },
  {
   "cell_type": "code",
   "execution_count": 60,
   "id": "dd4f6f50",
   "metadata": {},
   "outputs": [],
   "source": [
    "all_data = [text for text, _ in labeled_data] + unlabeled_data\n",
    "texts, labels = zip(*labeled_data)\n",
    "vectorizer = TfidfVectorizer(max_features=500)\n",
    " \n",
    "features_dense = features.toarray()\n",
    "all_labels = sorted(set(labels))\n",
    "label_distributions = np.zeros((len(texts), len(all_labels)))\n",
    "for i, label in enumerate(labels):\n",
    "    label_distributions[i, all_labels.index(label)] = 1\n"
   ]
  },
  {
   "cell_type": "code",
   "execution_count": 61,
   "id": "3e68b447",
   "metadata": {},
   "outputs": [],
   "source": [
    "X_train, X_test, y_train, y_test = train_test_split(features_dense[:len(texts)], labels, test_size=0.2, random_state=40)\n",
    "y_train_indices = np.array([all_labels.index(label) for label in y_train])\n",
    "semi_clf = LabelPropagation()\n",
    "semi_clf.fit(X_train, y_train_indices) \n",
    "predictions = semi_clf.predict(X_test)\n",
    "accuracy = accuracy_score(np.array([all_labels.index(label) for label in y_test]), predictions)\n",
    "precision = precision_score(np.array([all_labels.index(label) for label in y_test]), predictions, average='weighted', labels=np.unique(predictions))\n",
    "recall = recall_score(np.array([all_labels.index(label) for label in y_test]), predictions, average='weighted', labels=np.unique(predictions))\n"
   ]
  },
  {
   "cell_type": "code",
   "execution_count": 63,
   "id": "422c91aa",
   "metadata": {},
   "outputs": [
    {
     "name": "stdout",
     "output_type": "stream",
     "text": [
      "Accuracy: 1.0000\n",
      "Precision: 1.0000\n",
      "Recall: 1.0000\n"
     ]
    }
   ],
   "source": [
    "print(f\"Accuracy: {accuracy:.4f}\")\n",
    "print(f\"Precision: {precision:.4f}\")\n",
    "print(f\"Recall: {recall:.4f}\")"
   ]
  }
 ],
 "metadata": {
  "kernelspec": {
   "display_name": "Python 3 (ipykernel)",
   "language": "python",
   "name": "python3"
  },
  "language_info": {
   "codemirror_mode": {
    "name": "ipython",
    "version": 3
   },
   "file_extension": ".py",
   "mimetype": "text/x-python",
   "name": "python",
   "nbconvert_exporter": "python",
   "pygments_lexer": "ipython3",
   "version": "3.11.5"
  }
 },
 "nbformat": 4,
 "nbformat_minor": 5
}
